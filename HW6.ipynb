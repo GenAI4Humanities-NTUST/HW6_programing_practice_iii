{
  "nbformat": 4,
  "nbformat_minor": 0,
  "metadata": {
    "colab": {
      "provenance": []
    },
    "kernelspec": {
      "name": "python3",
      "display_name": "Python 3"
    },
    "language_info": {
      "name": "python"
    }
  },
  "cells": [
    {
      "cell_type": "markdown",
      "source": [
        "# HW6_程式練習 (III)"
      ],
      "metadata": {
        "id": "sbArNYhfYPet"
      }
    },
    {
      "cell_type": "markdown",
      "source": [
        "這是一個關於現代奧運會的歷史資料集，包含從1896年雅典到2016年里約的所有賽事。[資料來源](https://www.kaggle.com/datasets/heesoo37/120-years-of-olympic-history-athletes-and-results)\n",
        "\n",
        "> **請注意**：直到1992年，夏季和冬季運動會是在同一年舉行的。之後它們就分開，冬季運動會在1994年開始，然後夏季運動會在1996年，再然後是冬季運動會在1998年，以此類推。分析這些數據時，人們常犯的一個錯誤是假設夏季和冬季運動會一直都是分開的。\n",
        "\n",
        "### 內容\n",
        "資料集 `athlete_events.csv` 包含271116個橫列和15個直欄。每個橫列對應一位運動員參加一個奧運賽事。這些直欄包括：\n",
        "\n",
        "- ID - 每個運動員的唯一編號\n",
        "- Name - 運動員的名字\n",
        "- Sex - 男（M）或女（F）\n",
        "- Age - 年齡（整數）\n",
        "- Height - 身高（以厘米為單位）\n",
        "- Weight - 體重（以千克為單位）\n",
        "- Team - 隊伍名稱\n",
        "- NOC - 國家奧林匹克委員會的3個字母代碼\n",
        "- Games - 奧運年份和賽季\n",
        "- Year - 奧運年份（整數）\n",
        "- Season - 奧運賽季（夏季或冬季）\n",
        "- City - 主辦城市\n",
        "- Sport - 運動項目\n",
        "- Event - 賽事\n",
        "- Medal - 獲得的獎牌（金牌、銀牌、銅牌或NA）"
      ],
      "metadata": {
        "id": "uZsKRr0fbAom"
      }
    },
    {
      "cell_type": "markdown",
      "source": [
        "## 題目一：依運動項目填補缺失值 (25%)\n",
        "\n",
        "\n",
        "### 📄 題目描述：\n",
        "\n",
        "本資料集中記錄了歷年奧運運動員的基本資訊，包括身高（`Height`）與體重（`Weight`）。由於有部分資料缺失，請你嘗試根據**相同運動項目（`Sport`）**的平均身高與體重，來填補這些缺失值。\n",
        "\n",
        "---\n",
        "\n",
        "### ✅ 任務要求：\n",
        "  1. 讀取資料集，將資料集存放在 `oly_df` 中並列印出來。\n",
        "  2. 針對資料中的 `Height` 和 `Weight` 欄位進行缺失值填補。\n",
        "  3. 填補方式為：\n",
        "   - 依據每個 `Sport` 的非缺失資料，分別計算 `Height` 與 `Weight` 的**平均值**。\n",
        "   - 將該運動項目中缺失的 `Height` 和 `Weight` 欄位，使用對應的平均值進行填補。\n",
        "  4. 如果某一個運動項目中，所有選手的 `Height` 或 `Weight` 值都是缺失的，請**略過此運動項目**，**不要嘗試填補**。\n",
        "  5. 請輸出以下資訊：\n",
        "   - 每個 `Sport` 對應的 `Height` 與 `Weight` 平均值。\n",
        "   - 補值後，`Height` 欄位中仍為缺失值的資料筆數\n",
        "   - 補值後，`Weight` 欄位中仍為缺失值的資料筆數"
      ],
      "metadata": {
        "id": "g95NT_3ebC4C"
      }
    },
    {
      "cell_type": "code",
      "source": [
        "### 非台大學生請執行以下程式碼獲取資料集 ###\n",
        "\n",
        "!gdown 1BzjcfGjxNl2VF_LBm8TxpVE6YykYZMhn\n",
        "\n",
        "### 非台大學生請執行以上程式碼獲取資料集 ###"
      ],
      "metadata": {
        "id": "cmNMG5uFffFK"
      },
      "execution_count": null,
      "outputs": []
    },
    {
      "cell_type": "markdown",
      "source": [
        "## 題目二：統計各國獎牌數量（25%）\n",
        "\n",
        "### 📄 題目描述：\n",
        "\n",
        "本資料集中包含了運動員參加比賽的紀錄，其中 `Medal` 欄位記錄了選手是否獲得獎牌（金、銀、銅），`NOC` 欄位表示國家或地區的代碼（例如 USA、CHN、JPN 等）。\n",
        "\n",
        "請你統計出**每個國家**獲得的金牌、銀牌、銅牌，以及總獎牌數，並依據總獎牌數進行排序（由高至低）。\n",
        "\n",
        "---\n",
        "\n",
        "### ✅ 任務要求：\n",
        "\n",
        "1. 以 `NOC` 為單位，統計該國獲得的：\n",
        "   - 金牌（`Medal == \"Gold\"`）\n",
        "   - 銀牌（`Medal == \"Silver\"`）\n",
        "   - 銅牌（`Medal == \"Bronze\"`）\n",
        "2. 計算總獎牌數（上述三者加總）\n",
        "3. 將結果依照總獎牌數 `Total` 欄位由高至低排序。\n",
        "4. 輸出結果需包含以下欄位：\n",
        "   - `NOC`\n",
        "   - `Gold`\n",
        "   - `Silver`\n",
        "   - `Bronze`\n",
        "   - `Total`"
      ],
      "metadata": {
        "id": "cj2C5xDRdWny"
      }
    },
    {
      "cell_type": "code",
      "source": [],
      "metadata": {
        "id": "8z_F7Dsqy2Ak"
      },
      "execution_count": null,
      "outputs": []
    },
    {
      "cell_type": "markdown",
      "source": [
        "## 題目三：找出參賽人數最多的運動項目（25%）\n",
        "\n",
        "### ✅ 任務要求：\n",
        "\n",
        "1. 資料預處理：\n",
        "  - 移除重複的參賽者紀錄（提示：可使用 `ID`、`Year` 和 `Sport` 這三個欄位進行 `drop_duplicates()`）。\n",
        "\n",
        "2. 資料切分：\n",
        "  - 分別取出夏季奧運與冬季奧運的資料。\n",
        "\n",
        "4. 分別計算：\n",
        "  - 夏季奧運中，參賽人數最多的前 5 個運動項目\n",
        "  - 冬季奧運中，參賽人數最多的前 5 個運動項目\n",
        "\n",
        "5. 請印出這兩組熱門運動項目的名稱及對應人數"
      ],
      "metadata": {
        "id": "_Rq6O94pefrH"
      }
    },
    {
      "cell_type": "code",
      "source": [],
      "metadata": {
        "id": "kC5Wnz17y0ai"
      },
      "execution_count": null,
      "outputs": []
    },
    {
      "cell_type": "markdown",
      "source": [
        "## 題目四：畫出熱門運動項目的參與變化圖（25%）\n",
        "\n",
        "### ✅ 任務要求：\n",
        "\n",
        "1. 承上題，將上述統計結果畫成兩張堆疊長條圖（stacked bar chart）：\n",
        "  - 圖一：夏季奧運熱門運動項目變化圖。\n",
        "  - 圖二：冬季奧運熱門運動項目變化圖。\n",
        "\n",
        "\n",
        "2. 視覺化要求：\n",
        "  - `x` 軸為 `Year`，`y` 軸為 `No. of People Participated in Sport`\n",
        "  - 每個堆疊的顏色區塊代表一個熱門運動項目\n",
        "  - 圖片大小為 `(15, 6)`\n",
        "  - 請為每張圖加上適當的標題，如：\n",
        "    - `\"Top 5 Sports Participation - Summer Olympics\"`\n",
        "    - `\"Top 5 Sports Participation - Winter Olympics\"`\n",
        "  - 圖中應包含圖例（Legend），標示每種運動所代表的顏色\n",
        "\n"
      ],
      "metadata": {
        "id": "QCw_rk1DqZsh"
      }
    },
    {
      "cell_type": "code",
      "source": [],
      "metadata": {
        "id": "ABTJsnUdy04S"
      },
      "execution_count": null,
      "outputs": []
    }
  ]
}